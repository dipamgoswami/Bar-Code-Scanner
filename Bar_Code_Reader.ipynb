{
 "cells": [
  {
   "cell_type": "code",
   "execution_count": 7,
   "metadata": {},
   "outputs": [
    {
     "name": "stdout",
     "output_type": "stream",
     "text": [
      "b'8901764032271'\n",
      "b'8901030564208'\n"
     ]
    }
   ],
   "source": [
    "import cv2\n",
    "from pyzbar import pyzbar\n",
    "name = 'ttt.jpeg'\n",
    "nm = name.split(\".\")\n",
    "image = cv2.imread(name)\n",
    "import image_slicer\n",
    "\n",
    "image_slicer.slice(name, 4)\n",
    "slice_1 = nm[0] +'_01_01.png'\n",
    "slice_2 = nm[0] +'_01_02.png'\n",
    "slice_3 = nm[0] +'_02_01.png'\n",
    "slice_4 = nm[0] +'_02_02.png'\n",
    "lst = []\n",
    "\n",
    "import matplotlib.pyplot as plt\n",
    "i1 = cv2.imread(slice_1)\n",
    "#plt.imshow(i1)\n",
    "\n",
    "from pyzbar.pyzbar import decode\n",
    "\n",
    "barcodes = pyzbar.decode(i1)\n",
    "obj = barcodes\n",
    "for barcode in obj:\n",
    "    print(barcode.data)\n",
    "    b1 = barcode.data\n",
    "    lst.append(b1)\n",
    "    \n",
    "i2 = cv2.imread(slice_2)\n",
    "#plt.imshow(i2)\n",
    "\n",
    "barcodes = pyzbar.decode(i2)\n",
    "obj = barcodes\n",
    "for barcode in obj:\n",
    "    print(barcode.data)\n",
    "    b2 = barcode.data\n",
    "    lst.append(b2)\n",
    "    \n",
    "i3 = cv2.imread(slice_3)\n",
    "#plt.imshow(i3)\n",
    "\n",
    "barcodes = pyzbar.decode(i3)\n",
    "obj = barcodes\n",
    "for barcode in obj:\n",
    "    print(barcode.data)\n",
    "    b3 = barcode.data\n",
    "    lst.append(b3)\n",
    "    \n",
    "i4 = cv2.imread(slice_4)\n",
    "#plt.imshow(i4)\n",
    "\n",
    "barcodes = pyzbar.decode(i4)\n",
    "obj = barcodes\n",
    "for barcode in obj:\n",
    "    print(barcode.data)\n",
    "    b4 = barcode.data\n",
    "    lst.append(b4)"
   ]
  },
  {
   "cell_type": "code",
   "execution_count": 12,
   "metadata": {},
   "outputs": [
    {
     "data": {
      "text/plain": [
       "['8901764032271', '8901030564208']"
      ]
     },
     "execution_count": 12,
     "metadata": {},
     "output_type": "execute_result"
    }
   ],
   "source": [
    "list=[]\n",
    "for data in lst:\n",
    "    list.append(data.decode(\"utf-8\"))\n",
    "list"
   ]
  },
  {
   "cell_type": "code",
   "execution_count": null,
   "metadata": {},
   "outputs": [],
   "source": []
  },
  {
   "cell_type": "code",
   "execution_count": null,
   "metadata": {},
   "outputs": [],
   "source": []
  },
  {
   "cell_type": "code",
   "execution_count": null,
   "metadata": {},
   "outputs": [],
   "source": []
  }
 ],
 "metadata": {
  "kernelspec": {
   "display_name": "Python 3",
   "language": "python",
   "name": "python3"
  },
  "language_info": {
   "codemirror_mode": {
    "name": "ipython",
    "version": 3
   },
   "file_extension": ".py",
   "mimetype": "text/x-python",
   "name": "python",
   "nbconvert_exporter": "python",
   "pygments_lexer": "ipython3",
   "version": "3.6.9"
  }
 },
 "nbformat": 4,
 "nbformat_minor": 2
}
